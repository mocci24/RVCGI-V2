{
  "nbformat": 4,
  "nbformat_minor": 0,
  "metadata": {
    "colab": {
      "provenance": [],
      "collapsed_sections": [
        "ZinabEhs1-ei",
        "8_c9IjOqVLX1",
        "FH4oGQFMUl-1",
        "aOojmEgfV_MZ",
        "yTJEgiyHGeY6",
        "kv9ofUhRsxjk",
        "KIOiO_zXtgNa",
        "FRc3kP1SuDAI"
      ],
      "gpuType": "T4",
      "authorship_tag": "ABX9TyOz0jsBjvUeXM61XJdfgY+w",
      "include_colab_link": true
    },
    "kernelspec": {
      "name": "python3",
      "display_name": "Python 3"
    },
    "language_info": {
      "name": "python"
    },
    "accelerator": "GPU"
  },
  "cells": [
    {
      "cell_type": "markdown",
      "metadata": {
        "id": "view-in-github",
        "colab_type": "text"
      },
      "source": [
        "<a href=\"https://colab.research.google.com/github/mocci24/RVCGI-V2/blob/main/MrMocci_RVCV2_Inference.ipynb\" target=\"_parent\"><img src=\"https://colab.research.google.com/assets/colab-badge.svg\" alt=\"Open In Colab\"/></a>"
      ]
    },
    {
      "cell_type": "markdown",
      "source": [
        "# **HOW?**"
      ],
      "metadata": {
        "id": "ZinabEhs1-ei"
      }
    },
    {
      "cell_type": "markdown",
      "source": [
        "### In the process of creating an AI cover, there are several stages involved :\n",
        "\n",
        "1. Separating the vocals and music from the song.\n",
        "2. Performing inference (transforming it into AI-generated vocals) on the separated vocals.\n",
        "3. Rejoining the AI-generated vocals with the original music (for this last step, I recommend using third-party apps like FL STUDIO, BandLab, and others).\n",
        "\n",
        "the end, Adios ✨"
      ],
      "metadata": {
        "id": "AnAZ9eyNzhcz"
      }
    },
    {
      "cell_type": "markdown",
      "source": [
        "# PREPARATION"
      ],
      "metadata": {
        "id": "8_c9IjOqVLX1"
      }
    },
    {
      "cell_type": "code",
      "execution_count": null,
      "metadata": {
        "id": "PGEHhPzoTVvG"
      },
      "outputs": [],
      "source": [
        "!nvidia-smi\n",
        "!nvcc -V\n",
        "!free -h"
      ]
    },
    {
      "cell_type": "markdown",
      "source": [
        "# DOWNLOAD THE SONG FROM YOUTUBE\n",
        "\n"
      ],
      "metadata": {
        "id": "FH4oGQFMUl-1"
      }
    },
    {
      "cell_type": "code",
      "source": [
        "#@title Installation\n",
        "!pip install yt_dlp\n",
        "!pip install ffmpeg\n",
        "!mkdir youtubeaudio"
      ],
      "metadata": {
        "id": "W88IczSjUDa8",
        "cellView": "form"
      },
      "execution_count": null,
      "outputs": []
    },
    {
      "cell_type": "code",
      "source": [
        "#@title Download Youtube WAV\n",
        "from __future__ import unicode_literals\n",
        "import yt_dlp\n",
        "import ffmpeg\n",
        "import sys\n",
        "\n",
        "#@markdown Don't give space for song name\n",
        "url = \"\" #@param {type:\"string\"}\n",
        "song_name = \"\" #@param {type:\"string\"}\n",
        "\n",
        "ydl_opts = {\n",
        "    'format': 'bestaudio/best',\n",
        "#    'outtmpl': 'output.%(ext)s',\n",
        "    'postprocessors': [{\n",
        "        'key': 'FFmpegExtractAudio',\n",
        "        'preferredcodec': 'wav',\n",
        "    }],\n",
        "    \"outtmpl\": f'youtubeaudio/{song_name}',  # this is where you can edit how you'd like the filenames to be formatted\n",
        "}\n",
        "def download_from_url(url):\n",
        "    ydl.download([url])\n",
        "    # stream = ffmpeg.input('output.m4a')\n",
        "    # stream = ffmpeg.output(stream, 'output.wav')\n",
        "\n",
        "\n",
        "with yt_dlp.YoutubeDL(ydl_opts) as ydl:\n",
        "\n",
        "\n",
        "      download_from_url(url)"
      ],
      "metadata": {
        "id": "w4JOd_xhUKrp",
        "cellView": "form"
      },
      "execution_count": null,
      "outputs": []
    },
    {
      "cell_type": "markdown",
      "source": [
        "# SEPARATE VOCAL & MUSIC"
      ],
      "metadata": {
        "id": "aOojmEgfV_MZ"
      }
    },
    {
      "cell_type": "code",
      "source": [
        "#@title Install Demucs for Separating Audio\n",
        "!python3 -m pip install -U demucs"
      ],
      "metadata": {
        "id": "ymh7iVhwUkdd",
        "cellView": "form"
      },
      "execution_count": null,
      "outputs": []
    },
    {
      "cell_type": "code",
      "source": [
        "#@title Start Separate Vocal and Instrument using Demucs\n",
        "#@markdown This program is standart separating Vocal and Instrument.\n",
        "#@markdown Use webUI for more feature.\n",
        "import subprocess\n",
        "input_file = \"\" #@param {type:\"string\"}\n",
        "OUTPUT_DIR = \"/content/separated\"\n",
        "\n",
        "command = f\"demucs --two-stems=vocals {input_file}\"\n",
        "result = subprocess.run(command.split(), stdout=subprocess.PIPE)\n",
        "print(result.stdout.decode())\n",
        "#input_file = input(\"Masukkan file audio: \")"
      ],
      "metadata": {
        "id": "IaJ0lZQpqtOv",
        "cellView": "form"
      },
      "execution_count": null,
      "outputs": []
    },
    {
      "cell_type": "markdown",
      "source": [
        "# AUDIO SPLIT PER-ONE MINUTE SEGMENT"
      ],
      "metadata": {
        "id": "yTJEgiyHGeY6"
      }
    },
    {
      "cell_type": "code",
      "source": [
        "#@title Instal requirements for audio splitter ( 1 minute per split )\n",
        "!pip install pydub"
      ],
      "metadata": {
        "cellView": "form",
        "id": "1yyx7usPGcOf"
      },
      "execution_count": null,
      "outputs": []
    },
    {
      "cell_type": "code",
      "source": [
        "#@title Start Splitter ( 1-minute segments )\n",
        "#@markdown Input file path, for example\n",
        "#@markdown \"/content/separated/vocal.wav\"\n",
        "#@markdown\n",
        "#@markdown - What is this for?<br />\n",
        "#@markdown To split the vocal duration into one-minute segments.<br />\n",
        "#@markdown - Why does it need to be split?<br />\n",
        "#@markdown To avoid \"connection timeout\" messages during inference when using the \"Havest\" mode, as the maximum duration that can be processed is only around one minute.<br />\n",
        "#@markdown However, if you are using the PM mode, you can skip this process.\n",
        "input_file = \"\" #@param {type:\"string\"}\n",
        "from pydub import AudioSegment\n",
        "import os\n",
        "\n",
        "def split_audio_per_minute(input_file):\n",
        "    output_directory = '/content/Split'\n",
        "    os.makedirs(output_directory, exist_ok=True)\n",
        "    audio = AudioSegment.from_file(input_file)\n",
        "    duration = len(audio)\n",
        "    total_minutes = int(duration / (60 * 1000))\n",
        "\n",
        "    for minute in range(total_minutes + 1):\n",
        "        start_time = minute * 60 * 1000\n",
        "        end_time = (minute + 1) * 60 * 1000\n",
        "        split_audio = audio[start_time:end_time]\n",
        "        output_file = os.path.join(output_directory, f'split_{os.path.splitext(os.path.basename(input_file))[0]}_{minute}.wav')\n",
        "        split_audio.export(output_file, format='wav')\n",
        "        print(f\"Berhasil memisahkan audio {os.path.basename(input_file)} menit ke-{minute + 1}.\")\n",
        "\n",
        "    print(\"Proses pemisahan audio selesai.\")\n",
        "\n",
        "#input_file = input(\"Masukkan file audio: \")\n",
        "split_audio_per_minute(input_file)"
      ],
      "metadata": {
        "cellView": "form",
        "id": "ytYNazfuGuWy"
      },
      "execution_count": null,
      "outputs": []
    },
    {
      "cell_type": "markdown",
      "source": [
        "# LOAD MODELS"
      ],
      "metadata": {
        "id": "kv9ofUhRsxjk"
      }
    },
    {
      "cell_type": "code",
      "source": [
        "#@title Load models from Hugingface\n",
        "#@markdown Click [here](https://huggingface.co/mocci24/RVCV2-GI) for more info\n",
        "!apt install git-lfs\n",
        "!git lfs install\n",
        "!git clone https://huggingface.co/mocci24/RVCV2-GI"
      ],
      "metadata": {
        "id": "dmd7lLwTq6Mi",
        "cellView": "form"
      },
      "execution_count": null,
      "outputs": []
    },
    {
      "cell_type": "code",
      "source": [
        "#@title Cloning Github | Hugingface\n",
        "#@markdown Check our Models info\n",
        "#@markdown [Here](https://huggingface.co/mocci24/RVCV2-GI)\n",
        "\n",
        "\n",
        "!git clone https://github.com/RVC-Project/Retrieval-based-Voice-Conversion-WebUI.git\n",
        "!mkdir -p /content/Retrieval-based-Voice-Conversion-WebUI/logs\n",
        "!cp -r /content/RVCV2-GI/req/* /content/Retrieval-based-Voice-Conversion-WebUI\n",
        "!mv /content/RVCV2-GI/RVC/* /content/Retrieval-based-Voice-Conversion-WebUI/logs\n",
        "!mv /content/Retrieval-based-Voice-Conversion-WebUI/logs/weights/* /content/Retrieval-based-Voice-Conversion-WebUI/weights\n",
        "%cd /content/Retrieval-based-Voice-Conversion-WebUI\n",
        "!mkdir -p pretrained uvr5_weights"
      ],
      "metadata": {
        "id": "z2LPTT46q9Oa",
        "cellView": "form"
      },
      "execution_count": null,
      "outputs": []
    },
    {
      "cell_type": "markdown",
      "source": [
        "# INSTALL REQUIREMENTS FOR WebUI"
      ],
      "metadata": {
        "id": "KIOiO_zXtgNa"
      }
    },
    {
      "cell_type": "code",
      "source": [
        "!pip install gradio==3.36.1\n",
        "!pip install -r requirements-full.txt"
      ],
      "metadata": {
        "id": "BLFwIgB0rNY8"
      },
      "execution_count": null,
      "outputs": []
    },
    {
      "cell_type": "code",
      "source": [
        "#@title Install aria2\n",
        "!apt -y install -qq aria2"
      ],
      "metadata": {
        "id": "_XrddW9UXdNj"
      },
      "execution_count": null,
      "outputs": []
    },
    {
      "cell_type": "code",
      "source": [
        "#@title Download requirements for Audio Splitting\n",
        "!aria2c --console-log-level=error -c -x 16 -s 16 -k 1M https://huggingface.co/lj1995/VoiceConversionWebUI/resolve/main/uvr5_weights/HP2-人声vocals+非人声instrumentals.pth -d /content/Retrieval-based-Voice-Conversion-WebUI/uvr5_weights -o HP2-人声vocals+非人声instrumentals.pth\n",
        "!aria2c --console-log-level=error -c -x 16 -s 16 -k 1M https://huggingface.co/lj1995/VoiceConversionWebUI/resolve/main/uvr5_weights/HP5-主旋律人声vocals+其他instrumentals.pth -d /content/Retrieval-based-Voice-Conversion-WebUI/uvr5_weights -o HP5-主旋律人声vocals+其他instrumentals.pth\n",
        "!aria2c --console-log-level=error -c -x 16 -s 16 -k 1M https://github.com/TRvlvr/model_repo/releases/download/all_public_uvr_models/5_HP-Karaoke-UVR.pth -d /content/Retrieval-based-Voice-Conversion-WebUI/uvr5_weights -o 5_HP-Karaoke-UVR.pth\n",
        "!aria2c --console-log-level=error -c -x 16 -s 16 -k 1M https://huggingface.co/lj1995/VoiceConversionWebUI/resolve/main/uvr5_weights/HP2_all_vocals.pth -d /content/Retrieval-based-Voice-Conversion-WebUI/uvr5_weights -o HP2_all_vocals.pth\n",
        "!aria2c --console-log-level=error -c -x 16 -s 16 -k 1M https://huggingface.co/lj1995/VoiceConversionWebUI/resolve/main/uvr5_weights/HP3_all_vocals.pth -d /content/Retrieval-based-Voice-Conversion-WebUI/uvr5_weights -o HP3_all_vocals.pth\n",
        "!aria2c --console-log-level=error -c -x 16 -s 16 -k 1M https://huggingface.co/lj1995/VoiceConversionWebUI/resolve/main/uvr5_weights/HP5_only_main_vocal.pth -d /content/Retrieval-based-Voice-Conversion-WebUI/uvr5_weights -o HP5_only_main_vocal.pth\n",
        "!aria2c --console-log-level=error -c -x 16 -s 16 -k 1M https://huggingface.co/lj1995/VoiceConversionWebUI/resolve/main/uvr5_weights/VR-DeEchoAggressive.pth -d /content/Retrieval-based-Voice-Conversion-WebUI/uvr5_weights -o VR-DeEchoAggressive.pth\n",
        "!aria2c --console-log-level=error -c -x 16 -s 16 -k 1M https://huggingface.co/lj1995/VoiceConversionWebUI/resolve/main/uvr5_weights/VR-DeEchoDeReverb.pth -d /content/Retrieval-based-Voice-Conversion-WebUI/uvr5_weights -o VR-DeEchoDeReverb.pth\n",
        "!aria2c --console-log-level=error -c -x 16 -s 16 -k 1M https://huggingface.co/lj1995/VoiceConversionWebUI/resolve/main/uvr5_weights/VR-DeEchoNormal.pth -d /content/Retrieval-based-Voice-Conversion-WebUI/uvr5_weights -o VR-DeEchoNormal.pth"
      ],
      "metadata": {
        "id": "mNq6Hg7nWYHR"
      },
      "execution_count": null,
      "outputs": []
    },
    {
      "cell_type": "code",
      "source": [
        "#@title Download hubert_base\n",
        "!aria2c --console-log-level=error -c -x 16 -s 16 -k 1M https://huggingface.co/lj1995/VoiceConversionWebUI/resolve/main/hubert_base.pt -d /content/Retrieval-based-Voice-Conversion-WebUI -o hubert_base.pt\n",
        "!aria2c --console-log-level=error -c -x 16 -s 16 -k 1M https://huggingface.co/lj1995/VoiceConversionWebUI/resolve/main/rmvpe.pt -d /content/Retrieval-based-Voice-Conversion-WebUI -o rmvpe.pt"
      ],
      "metadata": {
        "id": "cHtKwpQbWx_7"
      },
      "execution_count": null,
      "outputs": []
    },
    {
      "cell_type": "markdown",
      "source": [
        "# RUN WebUI"
      ],
      "metadata": {
        "id": "FRc3kP1SuDAI"
      }
    },
    {
      "cell_type": "code",
      "source": [
        "#@title Run WebUI\n",
        "%cd /content/Retrieval-based-Voice-Conversion-WebUI\n",
        "# %load_ext tensorboard\n",
        "# %tensorboard --logdir /content/Retrieval-based-Voice-Conversion-WebUI/logs\n",
        "!python3 infer-web.py --colab --pycmd python3"
      ],
      "metadata": {
        "id": "Yv5SY3sZspuB"
      },
      "execution_count": null,
      "outputs": []
    },
    {
      "cell_type": "markdown",
      "source": [
        "# <center> Confused? Yes Me Too<br />\n",
        "# <center> Some [☕](https://ko-fi.com/mocci24)?"
      ],
      "metadata": {
        "id": "Xt0hI9XVIDmJ"
      }
    }
  ]
}